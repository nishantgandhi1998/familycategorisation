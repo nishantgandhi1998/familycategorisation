{
 "cells": [
  {
   "cell_type": "markdown",
   "id": "c40784ed",
   "metadata": {},
   "source": [
    "## Problem Statement\n",
    "\n",
    "Reserve Bank of India collects various financial information from public and private sector banks as well as other govt entities. Based on information RBI publishes various financial and economic report for public information. One of such report is Consumer Survey Index which provides information on income levels of Indian consumers. \n",
    "\n",
    "Based on consumer survey data available, considering multiple factors (features) like No of Earning Members in the Family vs No of Family Members, consumers Annual Income is to be categorized into different segment like “Below Poverty Line”, “Low Income”,” Mid Income” etc. \n"
   ]
  },
  {
   "cell_type": "markdown",
   "id": "13934a6c",
   "metadata": {},
   "source": [
    "## Overall Summary of the Solution"
   ]
  },
  {
   "cell_type": "markdown",
   "id": "923f236e",
   "metadata": {},
   "source": [
    "As Logistic Regression supports classification of data only in 2 clusters, approach of categorizing consumers into 3 different segments have been changed and now consumers Annual Income would be instead categorized into 2 different segments i.e. Below Average Income and Above Average Income.\n",
    "\n",
    "Annual Income below Rs.3 lacs has been categorized as Below Average Income and above Rs.3 lacs has been categorized as Above Average Income.\n",
    "\n",
    "Classification techniques used to solve the problem are mentioned below.\n",
    "\n",
    "1.\tNaïve Bayes\n",
    "2.\tDecision Tree\n",
    "3.\tLogistic Regression\n",
    "4.\tKNN\n",
    "5.\tSupport Vector Machine\n",
    "6.\tRandom Forest\n",
    "\n",
    "\n",
    "Almost all classification techniques have resulted in similar confusion matrix and accuracy percentage.\n"
   ]
  },
  {
   "cell_type": "code",
   "execution_count": 1,
   "id": "4ddc68b2",
   "metadata": {},
   "outputs": [],
   "source": [
    "#Importing Libraries \n",
    "import numpy as np\n",
    "import pandas as pd\n",
    "import matplotlib.pyplot as plt\n",
    "import seaborn as sns"
   ]
  },
  {
   "cell_type": "code",
   "execution_count": 2,
   "id": "bd86cecc",
   "metadata": {},
   "outputs": [],
   "source": [
    "#Reading Data\n",
    "df=pd.read_excel(r\"C:\\Users\\nisha\\OneDrive\\Desktop\\GREAT LEARNING COURSES\\Shinakshi Didi Material\\Consumer Categorisation\\Classification Data.xlsx\")"
   ]
  },
  {
   "cell_type": "code",
   "execution_count": 3,
   "id": "451c457e",
   "metadata": {},
   "outputs": [
    {
     "data": {
      "text/html": [
       "<div>\n",
       "<style scoped>\n",
       "    .dataframe tbody tr th:only-of-type {\n",
       "        vertical-align: middle;\n",
       "    }\n",
       "\n",
       "    .dataframe tbody tr th {\n",
       "        vertical-align: top;\n",
       "    }\n",
       "\n",
       "    .dataframe thead th {\n",
       "        text-align: right;\n",
       "    }\n",
       "</style>\n",
       "<table border=\"1\" class=\"dataframe\">\n",
       "  <thead>\n",
       "    <tr style=\"text-align: right;\">\n",
       "      <th></th>\n",
       "      <th>Serial No.</th>\n",
       "      <th>Period</th>\n",
       "      <th>City</th>\n",
       "      <th>Age</th>\n",
       "      <th>Lowe Range</th>\n",
       "      <th>Upper Range</th>\n",
       "      <th>Gender</th>\n",
       "      <th>Annual Income</th>\n",
       "      <th>Assembly Constituency Name</th>\n",
       "      <th>Educational Qualification</th>\n",
       "      <th>No. of Family Members</th>\n",
       "      <th>No. of Earning members in the family</th>\n",
       "      <th>Occupation of Respondent</th>\n",
       "    </tr>\n",
       "  </thead>\n",
       "  <tbody>\n",
       "    <tr>\n",
       "      <th>0</th>\n",
       "      <td>1</td>\n",
       "      <td>2019-07-31</td>\n",
       "      <td>Ahmedabad</td>\n",
       "      <td>22-29 year</td>\n",
       "      <td>22</td>\n",
       "      <td>29</td>\n",
       "      <td>Female</td>\n",
       "      <td>Rs. 1 lakh or less</td>\n",
       "      <td>Amaraiwadi</td>\n",
       "      <td>12th Std</td>\n",
       "      <td>5 and more</td>\n",
       "      <td>3.0</td>\n",
       "      <td>House wife</td>\n",
       "    </tr>\n",
       "    <tr>\n",
       "      <th>1</th>\n",
       "      <td>2</td>\n",
       "      <td>2019-07-31</td>\n",
       "      <td>Ahmedabad</td>\n",
       "      <td>22-29 year</td>\n",
       "      <td>22</td>\n",
       "      <td>29</td>\n",
       "      <td>Female</td>\n",
       "      <td>Rs. 1 lakh or less</td>\n",
       "      <td>Amaraiwadi</td>\n",
       "      <td>5th Std-Below 10th Std</td>\n",
       "      <td>5 and more</td>\n",
       "      <td>2.0</td>\n",
       "      <td>Daily worker</td>\n",
       "    </tr>\n",
       "    <tr>\n",
       "      <th>2</th>\n",
       "      <td>3</td>\n",
       "      <td>2019-07-31</td>\n",
       "      <td>Ahmedabad</td>\n",
       "      <td>22-29 year</td>\n",
       "      <td>22</td>\n",
       "      <td>29</td>\n",
       "      <td>Female</td>\n",
       "      <td>Rs. 1 lakh or less</td>\n",
       "      <td>Amaraiwadi</td>\n",
       "      <td>Below 5th Std</td>\n",
       "      <td>3 or 4</td>\n",
       "      <td>1.0</td>\n",
       "      <td>House wife</td>\n",
       "    </tr>\n",
       "    <tr>\n",
       "      <th>3</th>\n",
       "      <td>4</td>\n",
       "      <td>2019-07-31</td>\n",
       "      <td>Ahmedabad</td>\n",
       "      <td>22-29 year</td>\n",
       "      <td>22</td>\n",
       "      <td>29</td>\n",
       "      <td>Female</td>\n",
       "      <td>Rs. 1 lakh or less</td>\n",
       "      <td>Amaraiwadi</td>\n",
       "      <td>Graduate</td>\n",
       "      <td>5 and more</td>\n",
       "      <td>1.0</td>\n",
       "      <td>House wife</td>\n",
       "    </tr>\n",
       "    <tr>\n",
       "      <th>4</th>\n",
       "      <td>5</td>\n",
       "      <td>2019-07-31</td>\n",
       "      <td>Ahmedabad</td>\n",
       "      <td>NaN</td>\n",
       "      <td>22</td>\n",
       "      <td>29</td>\n",
       "      <td>Female</td>\n",
       "      <td>Rs. 1 lakh or less</td>\n",
       "      <td>Amaraiwadi</td>\n",
       "      <td>Illiterate</td>\n",
       "      <td>5 and more</td>\n",
       "      <td>1.0</td>\n",
       "      <td>House wife</td>\n",
       "    </tr>\n",
       "  </tbody>\n",
       "</table>\n",
       "</div>"
      ],
      "text/plain": [
       "   Serial No.     Period       City         Age  Lowe Range  Upper Range  \\\n",
       "0           1 2019-07-31  Ahmedabad  22-29 year          22           29   \n",
       "1           2 2019-07-31  Ahmedabad  22-29 year          22           29   \n",
       "2           3 2019-07-31  Ahmedabad  22-29 year          22           29   \n",
       "3           4 2019-07-31  Ahmedabad  22-29 year          22           29   \n",
       "4           5 2019-07-31  Ahmedabad         NaN          22           29   \n",
       "\n",
       "   Gender       Annual Income Assembly Constituency Name  \\\n",
       "0  Female  Rs. 1 lakh or less                 Amaraiwadi   \n",
       "1  Female  Rs. 1 lakh or less                 Amaraiwadi   \n",
       "2  Female  Rs. 1 lakh or less                 Amaraiwadi   \n",
       "3  Female  Rs. 1 lakh or less                 Amaraiwadi   \n",
       "4  Female  Rs. 1 lakh or less                 Amaraiwadi   \n",
       "\n",
       "  Educational Qualification No. of Family Members  \\\n",
       "0                  12th Std            5 and more   \n",
       "1    5th Std-Below 10th Std            5 and more   \n",
       "2             Below 5th Std                3 or 4   \n",
       "3                  Graduate            5 and more   \n",
       "4                Illiterate            5 and more   \n",
       "\n",
       "   No. of Earning members in the family Occupation of Respondent  \n",
       "0                                   3.0               House wife  \n",
       "1                                   2.0             Daily worker  \n",
       "2                                   1.0               House wife  \n",
       "3                                   1.0               House wife  \n",
       "4                                   1.0               House wife  "
      ]
     },
     "execution_count": 3,
     "metadata": {},
     "output_type": "execute_result"
    }
   ],
   "source": [
    "df.head()"
   ]
  },
  {
   "cell_type": "markdown",
   "id": "cfb3607f",
   "metadata": {},
   "source": [
    "## Detailed description and analysis of solution"
   ]
  },
  {
   "cell_type": "markdown",
   "id": "aa9b6491",
   "metadata": {},
   "source": [
    "Data downloaded from RBI website using web scraping is imported in python to for data analysis. Before any processing, data has total 13 columns and 5351 records.\n",
    "\n",
    "During data analysis it has been observed that apart from 2 variables Lower Age and Upper Age rest all variables contain null values. All such null values have been replaced with median for numerical variables and with mode for categorical variables. \n",
    "\n",
    "As Annual Income is to be divided into 2 classes, income below 3 lacs have been replaced with value 0 (4710 records) and income above 3 lacs have been replaced with value 1 (641 records). \n",
    "\n",
    "Data contains 7 columns having categorical values namely (Gender, Annual Income, City, Occupation of Respondent, No. of Family Members, Educational Qualification, Assembly Constituency Name, No. of Earning members in the family). Label encoding technique has been used to convert the categorical values to type numeric.\n",
    "\n",
    "Correlation Matrix and Heatmap Graph has been used to understand collinearity between the variables and it has been found that variable No of Earning Members in the Family is highly correlated to Annual Income.\n"
   ]
  },
  {
   "cell_type": "code",
   "execution_count": 4,
   "id": "3f7c06db",
   "metadata": {},
   "outputs": [
    {
     "data": {
      "text/plain": [
       "(5351, 13)"
      ]
     },
     "execution_count": 4,
     "metadata": {},
     "output_type": "execute_result"
    }
   ],
   "source": [
    "df.shape # Checking number of rows and columns"
   ]
  },
  {
   "cell_type": "code",
   "execution_count": 5,
   "id": "4c54a28c",
   "metadata": {},
   "outputs": [
    {
     "data": {
      "text/plain": [
       "Index(['Serial No.', 'Period', 'City', 'Age', 'Lowe Range', 'Upper Range',\n",
       "       'Gender', 'Annual Income', 'Assembly Constituency Name',\n",
       "       'Educational Qualification', 'No. of Family Members',\n",
       "       'No. of Earning members in the family', 'Occupation of Respondent'],\n",
       "      dtype='object')"
      ]
     },
     "execution_count": 5,
     "metadata": {},
     "output_type": "execute_result"
    }
   ],
   "source": [
    "df.columns #Columns in the dataframe"
   ]
  },
  {
   "cell_type": "code",
   "execution_count": 6,
   "id": "e5be95b0",
   "metadata": {},
   "outputs": [
    {
     "name": "stdout",
     "output_type": "stream",
     "text": [
      "Different City:\n",
      " Delhi         957\n",
      "Mumbai        895\n",
      "Bengaluru     699\n",
      "Kolkata       649\n",
      "Hyderbad      498\n",
      "Ahmedabad     399\n",
      "Chennai       399\n",
      "Jaipur        200\n",
      "Lucknow       200\n",
      "Bhopal        149\n",
      "Guwahati      100\n",
      "Patna         100\n",
      "Trivandrum    100\n",
      "Name: City, dtype: int64 \n",
      "\n",
      "Total no. of city: (13,) \n",
      "\n",
      "Annual Income:\n",
      " Rs. 1 to less than 3 lakh    2739\n",
      "Rs. 1 lakh or less           1960\n",
      "Rs. 3 lakh to 5 lakh          461\n",
      "Rs. 5 lakh or more            180\n",
      "Name: Annual Income, dtype: int64 \n",
      "\n",
      "Total Income Group: (4,) \n",
      "\n",
      "Different Lower Age:\n",
      " 40    1746\n",
      "22    1585\n",
      "30    1470\n",
      "60     550\n",
      "Name: Lowe Range, dtype: int64 \n",
      "\n",
      "Total count of age: (4,) \n",
      "\n",
      "Different Upper Age:\n",
      " 59     1746\n",
      "29     1585\n",
      "39     1470\n",
      "100     550\n",
      "Name: Upper Range, dtype: int64 \n",
      "\n",
      "Total count of age: (4,) \n",
      "\n",
      "Gender:\n",
      " Male      2901\n",
      "Female    2445\n",
      "Name: Gender, dtype: int64 \n",
      "\n",
      "Total: (2,) \n",
      "\n",
      "Different Assembly Name:\n",
      " Amaraiwadi             57\n",
      "Kashipur-Belgachhia    55\n",
      "Thakakarbapa nagar     46\n",
      "Kasba                  45\n",
      "Asarwa                 45\n",
      "                       ..\n",
      "TRILOKPURI             12\n",
      "ROHINI                 12\n",
      "CHHATARPUR             11\n",
      "Thiruvananthapuram     11\n",
      "SEELAMPUR               3\n",
      "Name: Assembly Constituency Name, Length: 224, dtype: int64 \n",
      "\n",
      "Total Assembly: (224,) \n",
      "\n",
      "Different Education:\n",
      " 5th Std-Below 10th Std     1326\n",
      "Graduate                   1113\n",
      "10th Std-Below 12th Std    1093\n",
      "12th Std                    837\n",
      "Illiterate                  386\n",
      "Post Graduate               295\n",
      "Below 5th Std               290\n",
      "Name: Educational Qualification, dtype: int64 \n",
      "\n",
      "Total category type: (7,) \n",
      "\n",
      "Different No. of Family Members:\n",
      " 3 or 4        2541\n",
      "5 and more    2359\n",
      "1 to 2         443\n",
      "Name: No. of Family Members, dtype: int64 \n",
      "\n",
      "Total category count: (3,) \n",
      "\n",
      "Different Occupation:\n",
      " House wife                 1742\n",
      "Employed                   1205\n",
      "Self Employed/ Business    1013\n",
      "Daily worker                595\n",
      "Unemployed                  511\n",
      "Retired/Pensioners          273\n",
      "Name: Occupation of Respondent, dtype: int64 \n",
      "\n",
      "Total category count: (6,) \n",
      "\n",
      "Different No. of Earning members in the family:\n",
      " 1.0     3077\n",
      "2.0     1580\n",
      "3.0      469\n",
      "4.0      144\n",
      "5.0       50\n",
      "6.0       14\n",
      "7.0        4\n",
      "10.0       3\n",
      "8.0        3\n",
      "Name: No. of Earning members in the family, dtype: int64 \n",
      "\n",
      "Total category count: (9,) \n",
      "\n"
     ]
    }
   ],
   "source": [
    "print(\"Different City:\\n\",df['City'].value_counts(),\"\\n\")           #Checking Categories in each column\n",
    "print(\"Total no. of city:\",df['City'].value_counts().shape,'\\n')\n",
    "\n",
    "print(\"Annual Income:\\n\",df['Annual Income'].value_counts(),\"\\n\")\n",
    "print(\"Total Income Group:\",df['Annual Income'].value_counts().shape,\"\\n\")\n",
    "\n",
    "print(\"Different Lower Age:\\n\",df['Lowe Range'].value_counts(),\"\\n\")\n",
    "print(\"Total count of age:\",df['Lowe Range'].value_counts().shape,'\\n')\n",
    "print(\"Different Upper Age:\\n\",df['Upper Range'].value_counts(),\"\\n\")\n",
    "print(\"Total count of age:\",df['Upper Range'].value_counts().shape,'\\n')\n",
    "\n",
    "print(\"Gender:\\n\",df['Gender'].value_counts(),\"\\n\")\n",
    "print(\"Total:\",df['Gender'].value_counts().shape,'\\n')\n",
    "\n",
    "print(\"Different Assembly Name:\\n\",df['Assembly Constituency Name'].value_counts(),\"\\n\")\n",
    "print(\"Total Assembly:\",df['Assembly Constituency Name'].value_counts().shape,'\\n')\n",
    "\n",
    "print(\"Different Education:\\n\",df['Educational Qualification'].value_counts(),\"\\n\")\n",
    "print(\"Total category type:\",df['Educational Qualification'].value_counts().shape,'\\n')\n",
    "\n",
    "print(\"Different No. of Family Members:\\n\",df['No. of Family Members'].value_counts(),\"\\n\")\n",
    "print(\"Total category count:\",df['No. of Family Members'].value_counts().shape,'\\n')\n",
    "\n",
    "print(\"Different Occupation:\\n\",df['Occupation of Respondent'].value_counts(),\"\\n\")\n",
    "print(\"Total category count:\",df['Occupation of Respondent'].value_counts().shape,'\\n')\n",
    "\n",
    "print(\"Different No. of Earning members in the family:\\n\",df['No. of Earning members in the family'].value_counts(),\"\\n\")\n",
    "print(\"Total category count:\",df['No. of Earning members in the family'].value_counts().shape,'\\n')"
   ]
  },
  {
   "cell_type": "code",
   "execution_count": 7,
   "id": "01ee9913",
   "metadata": {},
   "outputs": [],
   "source": [
    "#Renaming Columns\n",
    "df.rename({'Lowe Range':'Lower Age','Upper Range':'Upper Age'},axis=1,inplace=True)"
   ]
  },
  {
   "cell_type": "code",
   "execution_count": 8,
   "id": "6421cfe2",
   "metadata": {},
   "outputs": [],
   "source": [
    "#Dropping insignificant variables\n",
    "df.drop(['Serial No.','Period','Age'],axis=1,inplace=True)"
   ]
  },
  {
   "cell_type": "code",
   "execution_count": 9,
   "id": "b0b56c90",
   "metadata": {},
   "outputs": [
    {
     "name": "stdout",
     "output_type": "stream",
     "text": [
      "<class 'pandas.core.frame.DataFrame'>\n",
      "RangeIndex: 5351 entries, 0 to 5350\n",
      "Data columns (total 10 columns):\n",
      " #   Column                                Non-Null Count  Dtype  \n",
      "---  ------                                --------------  -----  \n",
      " 0   City                                  5345 non-null   object \n",
      " 1   Lower Age                             5351 non-null   int64  \n",
      " 2   Upper Age                             5351 non-null   int64  \n",
      " 3   Gender                                5346 non-null   object \n",
      " 4   Annual Income                         5340 non-null   object \n",
      " 5   Assembly Constituency Name            5344 non-null   object \n",
      " 6   Educational Qualification             5340 non-null   object \n",
      " 7   No. of Family Members                 5343 non-null   object \n",
      " 8   No. of Earning members in the family  5344 non-null   float64\n",
      " 9   Occupation of Respondent              5339 non-null   object \n",
      "dtypes: float64(1), int64(2), object(7)\n",
      "memory usage: 418.2+ KB\n"
     ]
    }
   ],
   "source": [
    "#Summary of the data\n",
    "df.info()"
   ]
  },
  {
   "cell_type": "code",
   "execution_count": 10,
   "id": "81268ff6",
   "metadata": {},
   "outputs": [
    {
     "data": {
      "text/plain": [
       "City                                     6\n",
       "Lower Age                                0\n",
       "Upper Age                                0\n",
       "Gender                                   5\n",
       "Annual Income                           11\n",
       "Assembly Constituency Name               7\n",
       "Educational Qualification               11\n",
       "No. of Family Members                    8\n",
       "No. of Earning members in the family     7\n",
       "Occupation of Respondent                12\n",
       "dtype: int64"
      ]
     },
     "execution_count": 10,
     "metadata": {},
     "output_type": "execute_result"
    }
   ],
   "source": [
    "#Checking for missing values\n",
    "df.isnull().sum()"
   ]
  },
  {
   "cell_type": "code",
   "execution_count": 11,
   "id": "e802ab36",
   "metadata": {},
   "outputs": [],
   "source": [
    "#Treatment of missing values"
   ]
  },
  {
   "cell_type": "code",
   "execution_count": 12,
   "id": "975657eb",
   "metadata": {},
   "outputs": [],
   "source": [
    "cat_cols=df.select_dtypes(include='object').columns"
   ]
  },
  {
   "cell_type": "code",
   "execution_count": 13,
   "id": "b491f731",
   "metadata": {},
   "outputs": [
    {
     "data": {
      "text/plain": [
       "Index(['City', 'Gender', 'Annual Income', 'Assembly Constituency Name',\n",
       "       'Educational Qualification', 'No. of Family Members',\n",
       "       'Occupation of Respondent'],\n",
       "      dtype='object')"
      ]
     },
     "execution_count": 13,
     "metadata": {},
     "output_type": "execute_result"
    }
   ],
   "source": [
    "cat_cols"
   ]
  },
  {
   "cell_type": "code",
   "execution_count": 14,
   "id": "f3cf3abc",
   "metadata": {},
   "outputs": [],
   "source": [
    "num_cols=df.select_dtypes(include=np.number).columns"
   ]
  },
  {
   "cell_type": "code",
   "execution_count": 15,
   "id": "f00aedba",
   "metadata": {},
   "outputs": [
    {
     "data": {
      "text/plain": [
       "Index(['Lower Age', 'Upper Age', 'No. of Earning members in the family'], dtype='object')"
      ]
     },
     "execution_count": 15,
     "metadata": {},
     "output_type": "execute_result"
    }
   ],
   "source": [
    "num_cols"
   ]
  },
  {
   "cell_type": "code",
   "execution_count": 16,
   "id": "c8d2324f",
   "metadata": {},
   "outputs": [],
   "source": [
    "for i in cat_cols:                      #Missing values in categorical column are treated using mode\n",
    "    df[i]=df[i].fillna(df[i].mode()[0])"
   ]
  },
  {
   "cell_type": "code",
   "execution_count": 17,
   "id": "0ec29534",
   "metadata": {},
   "outputs": [],
   "source": [
    "for i in num_cols:                       #Missing values in numerical columns are treated using median\n",
    "    df[i]=df[i].fillna(df[i].median())"
   ]
  },
  {
   "cell_type": "code",
   "execution_count": 18,
   "id": "da5d0a1b",
   "metadata": {},
   "outputs": [
    {
     "data": {
      "text/plain": [
       "City                                    0\n",
       "Lower Age                               0\n",
       "Upper Age                               0\n",
       "Gender                                  0\n",
       "Annual Income                           0\n",
       "Assembly Constituency Name              0\n",
       "Educational Qualification               0\n",
       "No. of Family Members                   0\n",
       "No. of Earning members in the family    0\n",
       "Occupation of Respondent                0\n",
       "dtype: int64"
      ]
     },
     "execution_count": 18,
     "metadata": {},
     "output_type": "execute_result"
    }
   ],
   "source": [
    "df.isnull().sum() #Missing Values are treated"
   ]
  },
  {
   "cell_type": "code",
   "execution_count": 19,
   "id": "b4c99d79",
   "metadata": {},
   "outputs": [
    {
     "data": {
      "text/plain": [
       "City                                     object\n",
       "Lower Age                                 int64\n",
       "Upper Age                                 int64\n",
       "Gender                                   object\n",
       "Annual Income                            object\n",
       "Assembly Constituency Name               object\n",
       "Educational Qualification                object\n",
       "No. of Family Members                    object\n",
       "No. of Earning members in the family    float64\n",
       "Occupation of Respondent                 object\n",
       "dtype: object"
      ]
     },
     "execution_count": 19,
     "metadata": {},
     "output_type": "execute_result"
    }
   ],
   "source": [
    "df.dtypes"
   ]
  },
  {
   "cell_type": "code",
   "execution_count": 20,
   "id": "7b5aa326",
   "metadata": {},
   "outputs": [],
   "source": [
    "#Converting into binary classification"
   ]
  },
  {
   "cell_type": "code",
   "execution_count": 21,
   "id": "0b35b0eb",
   "metadata": {},
   "outputs": [],
   "source": [
    "df['Annual Income'] = df['Annual Income'].replace(['Rs. 1 to less than 3 lakh', 'Rs. 1 lakh or less'], '0')\n",
    "df['Annual Income']= df['Annual Income'].replace(['Rs. 3 lakh to 5 lakh', 'Rs. 5 lakh or more'], '1')"
   ]
  },
  {
   "cell_type": "code",
   "execution_count": 22,
   "id": "4dfb8a8e",
   "metadata": {},
   "outputs": [
    {
     "name": "stdout",
     "output_type": "stream",
     "text": [
      "Annual Income:\n",
      " 0    4710\n",
      "1     641\n",
      "Name: Annual Income, dtype: int64 \n",
      "\n",
      "Annual Income:\n",
      " 0    0.880209\n",
      "1    0.119791\n",
      "Name: Annual Income, dtype: float64 \n",
      "\n",
      "Total Income Group: (2,) \n",
      "\n"
     ]
    }
   ],
   "source": [
    "print(\"Annual Income:\\n\",df['Annual Income'].value_counts(),\"\\n\")          #Proportion of categories in target column\n",
    "print(\"Annual Income:\\n\",df['Annual Income'].value_counts(normalize=True),\"\\n\") \n",
    "print(\"Total Income Group:\",df['Annual Income'].value_counts().shape,\"\\n\")"
   ]
  },
  {
   "cell_type": "code",
   "execution_count": 23,
   "id": "571117d7",
   "metadata": {},
   "outputs": [],
   "source": [
    "#Encoding Categorical Variables"
   ]
  },
  {
   "cell_type": "code",
   "execution_count": 24,
   "id": "416e4eb9",
   "metadata": {},
   "outputs": [],
   "source": [
    "from sklearn.preprocessing import LabelEncoder\n",
    "le=LabelEncoder()\n",
    "df['Gender']=le.fit_transform(df['Gender'])\n",
    "df['Annual Income']=le.fit_transform(df['Annual Income'])\n",
    "df['City']=le.fit_transform(df['City'])\n",
    "df['Occupation of Respondent']=le.fit_transform(df['Occupation of Respondent'])\n",
    "df['No. of Family Members']=le.fit_transform(df['No. of Family Members'])\n",
    "df['Educational Qualification']=le.fit_transform(df['Educational Qualification'])\n",
    "df['Assembly Constituency Name']=le.fit_transform(df['Assembly Constituency Name'])\n",
    "df['No. of Earning members in the family']=le.fit_transform(df['No. of Earning members in the family'])"
   ]
  },
  {
   "cell_type": "code",
   "execution_count": 25,
   "id": "cb3c1ae2",
   "metadata": {},
   "outputs": [],
   "source": [
    "#Checking Correlation"
   ]
  },
  {
   "cell_type": "code",
   "execution_count": 26,
   "id": "bc3b6307",
   "metadata": {},
   "outputs": [
    {
     "data": {
      "image/png": "[encoded data removed]",
      "text/plain": [
       "<Figure size 720x720 with 2 Axes>"
      ]
     },
     "metadata": {
      "needs_background": "light"
     },
     "output_type": "display_data"
    }
   ],
   "source": [
    "plt.figure(figsize=(10,10))\n",
    "sns.heatmap(df.corr(),annot=True,cmap='coolwarm')\n",
    "plt.show()"
   ]
  },
  {
   "cell_type": "code",
   "execution_count": 27,
   "id": "1c55e373",
   "metadata": {},
   "outputs": [
    {
     "data": {
      "text/plain": [
       "City                                    int32\n",
       "Lower Age                               int64\n",
       "Upper Age                               int64\n",
       "Gender                                  int32\n",
       "Annual Income                           int32\n",
       "Assembly Constituency Name              int32\n",
       "Educational Qualification               int32\n",
       "No. of Family Members                   int32\n",
       "No. of Earning members in the family    int64\n",
       "Occupation of Respondent                int32\n",
       "dtype: object"
      ]
     },
     "execution_count": 27,
     "metadata": {},
     "output_type": "execute_result"
    }
   ],
   "source": [
    "df.dtypes"
   ]
  },
  {
   "cell_type": "markdown",
   "id": "4bf25955",
   "metadata": {},
   "source": [
    "## Target Variable and Predictors "
   ]
  },
  {
   "cell_type": "markdown",
   "id": "6f8a7801",
   "metadata": {},
   "source": [
    "Variables No of Earning members in the family, No of Family Members, Educational Qualification, Gender have been considered as predictor or independent variable and variable Annual Income has been considered as response or dependent variable. While applying all six techniques data has been split into train and test data set with 80:20 ratio."
   ]
  },
  {
   "cell_type": "code",
   "execution_count": 28,
   "id": "541a99d7",
   "metadata": {},
   "outputs": [],
   "source": [
    "X = df[['No. of Earning members in the family','No. of Family Members','Educational Qualification','Gender']]\n",
    "y = df['Annual Income']"
   ]
  },
  {
   "cell_type": "code",
   "execution_count": 29,
   "id": "e9c351e9",
   "metadata": {},
   "outputs": [],
   "source": [
    "#Importing Required Libraries\n",
    "from sklearn.model_selection import train_test_split\n",
    "from sklearn.naive_bayes import GaussianNB\n",
    "from sklearn.metrics import accuracy_score,confusion_matrix,classification_report,roc_auc_score"
   ]
  },
  {
   "cell_type": "code",
   "execution_count": 30,
   "id": "c4313555",
   "metadata": {},
   "outputs": [],
   "source": [
    "#Splitting into train set and test set\n",
    "X_train,X_test,y_train,y_test=train_test_split(X,y,test_size=0.2,random_state=0)\n"
   ]
  },
  {
   "cell_type": "code",
   "execution_count": 31,
   "id": "4b569a83",
   "metadata": {},
   "outputs": [],
   "source": [
    "#Fit our Naive Bayes model to training data\n",
    "GNB=GaussianNB()\n",
    "model=GNB.fit(X_train,y_train)"
   ]
  },
  {
   "cell_type": "code",
   "execution_count": 32,
   "id": "e7575f6a",
   "metadata": {},
   "outputs": [],
   "source": [
    "#Prediction on validatation/test data\n",
    "y_pred=model.predict(X_test)"
   ]
  },
  {
   "cell_type": "code",
   "execution_count": 33,
   "id": "cb2540fa",
   "metadata": {},
   "outputs": [
    {
     "data": {
      "text/plain": [
       "array([0, 0, 0, ..., 0, 0, 0])"
      ]
     },
     "execution_count": 33,
     "metadata": {},
     "output_type": "execute_result"
    }
   ],
   "source": [
    "y_pred"
   ]
  },
  {
   "cell_type": "markdown",
   "id": "1ea56dd9",
   "metadata": {},
   "source": [
    "**Evaluation**"
   ]
  },
  {
   "cell_type": "code",
   "execution_count": 34,
   "id": "f640a833",
   "metadata": {},
   "outputs": [
    {
     "data": {
      "text/plain": [
       "0.8674136321195145"
      ]
     },
     "execution_count": 34,
     "metadata": {},
     "output_type": "execute_result"
    }
   ],
   "source": [
    "accuracy_score(y_test,y_pred)"
   ]
  },
  {
   "cell_type": "code",
   "execution_count": 35,
   "id": "b8b17e98",
   "metadata": {},
   "outputs": [
    {
     "data": {
      "text/plain": [
       "array([[912,  31],\n",
       "       [111,  17]], dtype=int64)"
      ]
     },
     "execution_count": 35,
     "metadata": {},
     "output_type": "execute_result"
    }
   ],
   "source": [
    "                                                                    #predicted\n",
    "                                                           #          0    1\n",
    "confusion_matrix(y_test,y_pred)                            #       0 #TN  FP\n",
    "                                                           #actual 1 #FN  TP"
   ]
  },
  {
   "cell_type": "code",
   "execution_count": 36,
   "id": "0ddd0f1c",
   "metadata": {},
   "outputs": [
    {
     "name": "stdout",
     "output_type": "stream",
     "text": [
      "              precision    recall  f1-score   support\n",
      "\n",
      "           0       0.89      0.97      0.93       943\n",
      "           1       0.35      0.13      0.19       128\n",
      "\n",
      "    accuracy                           0.87      1071\n",
      "   macro avg       0.62      0.55      0.56      1071\n",
      "weighted avg       0.83      0.87      0.84      1071\n",
      "\n"
     ]
    }
   ],
   "source": [
    "print(classification_report(y_test,y_pred))"
   ]
  },
  {
   "cell_type": "markdown",
   "id": "af9fd23e",
   "metadata": {},
   "source": [
    "**ROC AUC Curve**"
   ]
  },
  {
   "cell_type": "code",
   "execution_count": 37,
   "id": "77f46ae2",
   "metadata": {},
   "outputs": [
    {
     "data": {
      "image/png": "[encoded data removed]",
      "text/plain": [
       "<Figure size 432x288 with 1 Axes>"
      ]
     },
     "metadata": {
      "needs_background": "light"
     },
     "output_type": "display_data"
    }
   ],
   "source": [
    "import sklearn.metrics as metrics\n",
    "#Checking fpr and tpr for all thresholds of classification\n",
    "\n",
    "probs=model.predict_proba(X_test)\n",
    "preds=probs[:,1]\n",
    "fpr,tpr,threshold=metrics.roc_curve(y_test,preds)\n",
    "roc_auc=metrics.auc(fpr,tpr)\n",
    "\n",
    "import matplotlib.pyplot as plt\n",
    "plt.plot(fpr,tpr,'b',label='AUC = %0.2f' % roc_auc)\n",
    "plt.legend(loc='lower right')\n",
    "\n",
    "plt.plot([0,1],[0,1],'r--')\n",
    "plt.xlim([0,1])\n",
    "plt.ylim([0,1])\n",
    "\n",
    "plt.title('Receiver Operating Characteristic')\n",
    "plt.xlabel('False Positive Rate')\n",
    "plt.ylabel('True Positive Rate')\n",
    "plt.show()"
   ]
  },
  {
   "cell_type": "markdown",
   "id": "a9d640f5",
   "metadata": {},
   "source": [
    "**Naive Bayes**\n",
    "\n",
    "GaussianNB module of SKLEARN library is used to perform classification. Model has been trained approx. 4280 records and tested on 1070 records. With validating test records model predicts 86.74% accuracy.\n",
    "\n",
    "**F1-Score:0.19**\n",
    "\n",
    "**ROC / AUC Curve**\n",
    "AUC curve at 76% shows that classes are separated with certain overlap.\n",
    "\n"
   ]
  },
  {
   "cell_type": "markdown",
   "id": "8eb080e2",
   "metadata": {},
   "source": [
    "# Decision Tree"
   ]
  },
  {
   "cell_type": "code",
   "execution_count": 38,
   "id": "7ddd9929",
   "metadata": {},
   "outputs": [],
   "source": [
    "from sklearn.tree import DecisionTreeClassifier"
   ]
  },
  {
   "cell_type": "code",
   "execution_count": 39,
   "id": "1c6d4e7c",
   "metadata": {},
   "outputs": [],
   "source": [
    "dc=DecisionTreeClassifier(max_leaf_nodes=15)"
   ]
  },
  {
   "cell_type": "code",
   "execution_count": 40,
   "id": "c289a423",
   "metadata": {},
   "outputs": [],
   "source": [
    "model=dc.fit(X_train,y_train)"
   ]
  },
  {
   "cell_type": "code",
   "execution_count": 41,
   "id": "6e39186e",
   "metadata": {},
   "outputs": [],
   "source": [
    "y_pred=model.predict(X_test)"
   ]
  },
  {
   "cell_type": "markdown",
   "id": "39fcfe17",
   "metadata": {},
   "source": [
    "**Evaluation**"
   ]
  },
  {
   "cell_type": "code",
   "execution_count": 42,
   "id": "4770ba5b",
   "metadata": {},
   "outputs": [
    {
     "data": {
      "text/plain": [
       "0.8832866479925303"
      ]
     },
     "execution_count": 42,
     "metadata": {},
     "output_type": "execute_result"
    }
   ],
   "source": [
    "accuracy_score(y_test,y_pred)"
   ]
  },
  {
   "cell_type": "code",
   "execution_count": 43,
   "id": "1df06c15",
   "metadata": {},
   "outputs": [
    {
     "data": {
      "text/plain": [
       "array([[938,   5],\n",
       "       [120,   8]], dtype=int64)"
      ]
     },
     "execution_count": 43,
     "metadata": {},
     "output_type": "execute_result"
    }
   ],
   "source": [
    "confusion_matrix(y_test,y_pred)"
   ]
  },
  {
   "cell_type": "code",
   "execution_count": 44,
   "id": "711c56d0",
   "metadata": {},
   "outputs": [
    {
     "name": "stdout",
     "output_type": "stream",
     "text": [
      "              precision    recall  f1-score   support\n",
      "\n",
      "           0       0.89      0.99      0.94       943\n",
      "           1       0.62      0.06      0.11       128\n",
      "\n",
      "    accuracy                           0.88      1071\n",
      "   macro avg       0.75      0.53      0.53      1071\n",
      "weighted avg       0.85      0.88      0.84      1071\n",
      "\n"
     ]
    }
   ],
   "source": [
    "print(classification_report(y_test,y_pred))"
   ]
  },
  {
   "cell_type": "markdown",
   "id": "d35b1b63",
   "metadata": {},
   "source": [
    "**ROC AUC CURVE**"
   ]
  },
  {
   "cell_type": "code",
   "execution_count": 45,
   "id": "7d436943",
   "metadata": {},
   "outputs": [
    {
     "data": {
      "image/png": "[encoded data removed]",
      "text/plain": [
       "<Figure size 432x288 with 1 Axes>"
      ]
     },
     "metadata": {
      "needs_background": "light"
     },
     "output_type": "display_data"
    }
   ],
   "source": [
    "import sklearn.metrics as metrics\n",
    "#Check fpr and tpr for all thresholds of classification\n",
    "\n",
    "probs=model.predict_proba(X_test)\n",
    "preds=probs[:,1]\n",
    "fpr,tpr,threshold=metrics.roc_curve(y_test,preds)\n",
    "roc_auc=metrics.auc(fpr,tpr)\n",
    "\n",
    "import matplotlib.pyplot as plt\n",
    "plt.plot(fpr,tpr,'b',label='AUC=%0.2f' %roc_auc)\n",
    "plt.legend(loc='lower right')\n",
    "\n",
    "plt.plot([0,1],[0,1],'r--')\n",
    "plt.xlim([0,1])\n",
    "plt.ylim([0,1])\n",
    "\n",
    "plt.title('Receiver Operating Characteristic')\n",
    "plt.xlabel('False Positive Rate')\n",
    "plt.ylabel('True Positive Rate')\n",
    "plt.show()"
   ]
  },
  {
   "cell_type": "markdown",
   "id": "ca4e5af5",
   "metadata": {},
   "source": [
    "**Decision Tree**\n",
    "\n",
    "Gini Index criteria with maximum 15 leaf nodes are used to perform classification. Post applying criteria on train data and validating the test data model predicts accuracy of 88.32%.\n",
    "\n",
    "**F1-Score:0.11**\n",
    "\n",
    "\n",
    "**ROC / AUC Curve** AUC curve at 76% shows that classes are separated with certain overlap."
   ]
  },
  {
   "cell_type": "markdown",
   "id": "fb4bfabd",
   "metadata": {},
   "source": [
    "# Logistic Regression"
   ]
  },
  {
   "cell_type": "code",
   "execution_count": 46,
   "id": "f04eab25",
   "metadata": {},
   "outputs": [],
   "source": [
    "from sklearn.linear_model import LogisticRegression"
   ]
  },
  {
   "cell_type": "code",
   "execution_count": 47,
   "id": "690a49bb",
   "metadata": {},
   "outputs": [],
   "source": [
    "lr=LogisticRegression()"
   ]
  },
  {
   "cell_type": "code",
   "execution_count": 48,
   "id": "bb211aaf",
   "metadata": {},
   "outputs": [],
   "source": [
    "model=lr.fit(X_train,y_train)"
   ]
  },
  {
   "cell_type": "code",
   "execution_count": 49,
   "id": "5f23188b",
   "metadata": {},
   "outputs": [],
   "source": [
    "y_pred=model.predict(X_test)"
   ]
  },
  {
   "cell_type": "markdown",
   "id": "932e0d3f",
   "metadata": {},
   "source": [
    "**Evaluation**"
   ]
  },
  {
   "cell_type": "code",
   "execution_count": 50,
   "id": "380afc34",
   "metadata": {},
   "outputs": [
    {
     "data": {
      "text/plain": [
       "0.8814192343604108"
      ]
     },
     "execution_count": 50,
     "metadata": {},
     "output_type": "execute_result"
    }
   ],
   "source": [
    "accuracy_score(y_test,y_pred)"
   ]
  },
  {
   "cell_type": "code",
   "execution_count": 51,
   "id": "f9730484",
   "metadata": {},
   "outputs": [
    {
     "data": {
      "text/plain": [
       "array([[939,   4],\n",
       "       [123,   5]], dtype=int64)"
      ]
     },
     "execution_count": 51,
     "metadata": {},
     "output_type": "execute_result"
    }
   ],
   "source": [
    "confusion_matrix(y_test,y_pred)"
   ]
  },
  {
   "cell_type": "code",
   "execution_count": 52,
   "id": "9340b75b",
   "metadata": {},
   "outputs": [
    {
     "name": "stdout",
     "output_type": "stream",
     "text": [
      "              precision    recall  f1-score   support\n",
      "\n",
      "           0       0.88      1.00      0.94       943\n",
      "           1       0.56      0.04      0.07       128\n",
      "\n",
      "    accuracy                           0.88      1071\n",
      "   macro avg       0.72      0.52      0.50      1071\n",
      "weighted avg       0.84      0.88      0.83      1071\n",
      "\n"
     ]
    }
   ],
   "source": [
    "print(classification_report(y_test,y_pred))"
   ]
  },
  {
   "cell_type": "markdown",
   "id": "bd3b93bc",
   "metadata": {},
   "source": [
    "**ROC AUC Curve**"
   ]
  },
  {
   "cell_type": "code",
   "execution_count": 53,
   "id": "925d4ddb",
   "metadata": {},
   "outputs": [
    {
     "data": {
      "image/png": "[encoded data removed]",
      "text/plain": [
       "<Figure size 432x288 with 1 Axes>"
      ]
     },
     "metadata": {
      "needs_background": "light"
     },
     "output_type": "display_data"
    }
   ],
   "source": [
    "import sklearn.metrics as metrics\n",
    "\n",
    "probs=model.predict_proba(X_test)\n",
    "preds=probs[:,1]\n",
    "fpr,tpr,threshold=metrics.roc_curve(y_test,preds)\n",
    "roc_auc=metrics.auc(fpr,tpr)\n",
    "\n",
    "import matplotlib.pyplot as plt\n",
    "plt.plot(fpr,tpr,'b',label='AUC=%0.2f'%roc_auc)\n",
    "plt.legend(loc='lower right')\n",
    "\n",
    "plt.plot([0,1],[0,1],'r--')\n",
    "plt.xlim([0,1])\n",
    "plt.ylim([0,1])\n",
    "\n",
    "plt.title('Receiver Operating Characteristic')\n",
    "plt.xlabel('False Positive Rate')\n",
    "plt.ylabel('True Positive Rate')\n",
    "plt.show()\n",
    "\n"
   ]
  },
  {
   "cell_type": "markdown",
   "id": "a0c019ce",
   "metadata": {},
   "source": [
    "**Logistic Regression**\n",
    "\n",
    "Logistic model is used to perform classification. Post applying criteria on train data and validating the test data model predicts accuracy of 88.14%.\n",
    "\n",
    "**F1-Score:0.07**\n",
    "\n",
    "**ROC / AUC Curve** AUC curve at 76% shows that classes are separated with certain overlap."
   ]
  },
  {
   "cell_type": "markdown",
   "id": "acd2b987",
   "metadata": {},
   "source": [
    "# KNN"
   ]
  },
  {
   "cell_type": "code",
   "execution_count": 54,
   "id": "43aa5d8d",
   "metadata": {},
   "outputs": [],
   "source": [
    "from sklearn.neighbors import KNeighborsClassifier"
   ]
  },
  {
   "cell_type": "code",
   "execution_count": 55,
   "id": "c4bf0a34",
   "metadata": {},
   "outputs": [],
   "source": [
    "knn=KNeighborsClassifier()"
   ]
  },
  {
   "cell_type": "code",
   "execution_count": 56,
   "id": "3b4c6567",
   "metadata": {},
   "outputs": [],
   "source": [
    "model=knn.fit(X_train,y_train)"
   ]
  },
  {
   "cell_type": "code",
   "execution_count": 57,
   "id": "d747bc4c",
   "metadata": {},
   "outputs": [],
   "source": [
    "y_pred=model.predict(X_test)"
   ]
  },
  {
   "cell_type": "markdown",
   "id": "7d3d2d62",
   "metadata": {},
   "source": [
    "**Evaluation**"
   ]
  },
  {
   "cell_type": "code",
   "execution_count": 58,
   "id": "63f18a1d",
   "metadata": {},
   "outputs": [
    {
     "data": {
      "text/plain": [
       "0.8720821661998133"
      ]
     },
     "execution_count": 58,
     "metadata": {},
     "output_type": "execute_result"
    }
   ],
   "source": [
    "accuracy_score(y_test,y_pred)"
   ]
  },
  {
   "cell_type": "code",
   "execution_count": 59,
   "id": "ae0be04f",
   "metadata": {},
   "outputs": [
    {
     "data": {
      "text/plain": [
       "array([[926,  17],\n",
       "       [120,   8]], dtype=int64)"
      ]
     },
     "execution_count": 59,
     "metadata": {},
     "output_type": "execute_result"
    }
   ],
   "source": [
    "confusion_matrix(y_test,y_pred)"
   ]
  },
  {
   "cell_type": "code",
   "execution_count": 60,
   "id": "673e7914",
   "metadata": {},
   "outputs": [
    {
     "name": "stdout",
     "output_type": "stream",
     "text": [
      "              precision    recall  f1-score   support\n",
      "\n",
      "           0       0.89      0.98      0.93       943\n",
      "           1       0.32      0.06      0.10       128\n",
      "\n",
      "    accuracy                           0.87      1071\n",
      "   macro avg       0.60      0.52      0.52      1071\n",
      "weighted avg       0.82      0.87      0.83      1071\n",
      "\n"
     ]
    }
   ],
   "source": [
    "print(classification_report(y_test,y_pred))"
   ]
  },
  {
   "cell_type": "markdown",
   "id": "3dc4805a",
   "metadata": {},
   "source": [
    "**ROC AUC Curve**"
   ]
  },
  {
   "cell_type": "code",
   "execution_count": 61,
   "id": "d46ae386",
   "metadata": {},
   "outputs": [
    {
     "data": {
      "image/png": "[encoded data removed]",
      "text/plain": [
       "<Figure size 432x288 with 1 Axes>"
      ]
     },
     "metadata": {
      "needs_background": "light"
     },
     "output_type": "display_data"
    }
   ],
   "source": [
    "import sklearn.metrics as metrics\n",
    "\n",
    "probs=model.predict_proba(X_test)\n",
    "preds=probs[:,1]\n",
    "fpr,tpr,threshold=metrics.roc_curve(y_test,preds)\n",
    "roc_auc=metrics.auc(fpr,tpr)\n",
    "\n",
    "import matplotlib.pyplot as plt\n",
    "plt.plot(fpr,tpr,'b',label='AUC=%0.2f' %roc_auc)\n",
    "plt.legend(loc='lower right')\n",
    "\n",
    "plt.plot([0,1],[0,1],'r--')\n",
    "plt.xlim([0,1])\n",
    "plt.ylim([0,1])\n",
    "\n",
    "plt.title('Receiver Operating Characteristic')\n",
    "plt.xlabel('False Positive Rate')\n",
    "plt.ylabel('True Positive Rate')\n",
    "plt.show()"
   ]
  },
  {
   "cell_type": "markdown",
   "id": "f368ae46",
   "metadata": {},
   "source": [
    "**K Nearest Neighbors**\n",
    "\n",
    "KNN is used to perform classification. Post applying criteria on train data and validating the test data model predicts accuracy of 87.20%.\n",
    "\n",
    "**F1-Score:0.10**\n",
    "\n",
    "**ROC / AUC Curve** AUC curve at 68% shows that classes are separated with certain overlap."
   ]
  },
  {
   "cell_type": "markdown",
   "id": "50f2d49d",
   "metadata": {},
   "source": [
    "# SVM"
   ]
  },
  {
   "cell_type": "code",
   "execution_count": 62,
   "id": "c30e8aaa",
   "metadata": {},
   "outputs": [],
   "source": [
    "import sklearn.svm as svm"
   ]
  },
  {
   "cell_type": "code",
   "execution_count": 63,
   "id": "ea1a6cfa",
   "metadata": {},
   "outputs": [],
   "source": [
    "s=svm.SVC(kernel='linear',probability=True)"
   ]
  },
  {
   "cell_type": "code",
   "execution_count": 64,
   "id": "486fc91f",
   "metadata": {},
   "outputs": [],
   "source": [
    "model=s.fit(X_train,y_train)"
   ]
  },
  {
   "cell_type": "code",
   "execution_count": 65,
   "id": "4971b0c5",
   "metadata": {},
   "outputs": [],
   "source": [
    "y_pred=model.predict(X_test)"
   ]
  },
  {
   "cell_type": "markdown",
   "id": "67d1bf08",
   "metadata": {},
   "source": [
    "**Evaluation**"
   ]
  },
  {
   "cell_type": "code",
   "execution_count": 66,
   "id": "6a64bc81",
   "metadata": {},
   "outputs": [
    {
     "data": {
      "text/plain": [
       "0.880485527544351"
      ]
     },
     "execution_count": 66,
     "metadata": {},
     "output_type": "execute_result"
    }
   ],
   "source": [
    "accuracy_score(y_test,y_pred)"
   ]
  },
  {
   "cell_type": "code",
   "execution_count": 67,
   "id": "ab827c22",
   "metadata": {},
   "outputs": [
    {
     "data": {
      "text/plain": [
       "array([[943,   0],\n",
       "       [128,   0]], dtype=int64)"
      ]
     },
     "execution_count": 67,
     "metadata": {},
     "output_type": "execute_result"
    }
   ],
   "source": [
    "confusion_matrix(y_test,y_pred)"
   ]
  },
  {
   "cell_type": "code",
   "execution_count": 68,
   "id": "dd7fde02",
   "metadata": {},
   "outputs": [
    {
     "name": "stdout",
     "output_type": "stream",
     "text": [
      "              precision    recall  f1-score   support\n",
      "\n",
      "           0       0.88      1.00      0.94       943\n",
      "           1       0.00      0.00      0.00       128\n",
      "\n",
      "    accuracy                           0.88      1071\n",
      "   macro avg       0.44      0.50      0.47      1071\n",
      "weighted avg       0.78      0.88      0.82      1071\n",
      "\n"
     ]
    },
    {
     "name": "stderr",
     "output_type": "stream",
     "text": [
      "C:\\Users\\nisha\\anaconda3\\lib\\site-packages\\sklearn\\metrics\\_classification.py:1318: UndefinedMetricWarning: Precision and F-score are ill-defined and being set to 0.0 in labels with no predicted samples. Use `zero_division` parameter to control this behavior.\n",
      "  _warn_prf(average, modifier, msg_start, len(result))\n",
      "C:\\Users\\nisha\\anaconda3\\lib\\site-packages\\sklearn\\metrics\\_classification.py:1318: UndefinedMetricWarning: Precision and F-score are ill-defined and being set to 0.0 in labels with no predicted samples. Use `zero_division` parameter to control this behavior.\n",
      "  _warn_prf(average, modifier, msg_start, len(result))\n",
      "C:\\Users\\nisha\\anaconda3\\lib\\site-packages\\sklearn\\metrics\\_classification.py:1318: UndefinedMetricWarning: Precision and F-score are ill-defined and being set to 0.0 in labels with no predicted samples. Use `zero_division` parameter to control this behavior.\n",
      "  _warn_prf(average, modifier, msg_start, len(result))\n"
     ]
    }
   ],
   "source": [
    "print(classification_report(y_test,y_pred))"
   ]
  },
  {
   "cell_type": "markdown",
   "id": "46717e59",
   "metadata": {},
   "source": [
    "**ROC AUC Curve**"
   ]
  },
  {
   "cell_type": "code",
   "execution_count": 69,
   "id": "6fea8b79",
   "metadata": {},
   "outputs": [
    {
     "data": {
      "image/png": "[encoded data removed]",
      "text/plain": [
       "<Figure size 432x288 with 1 Axes>"
      ]
     },
     "metadata": {
      "needs_background": "light"
     },
     "output_type": "display_data"
    }
   ],
   "source": [
    "import sklearn.metrics as metrics\n",
    "\n",
    "probs=model.predict_proba(X_test)\n",
    "preds=probs[:,1]\n",
    "fpr,tpr,threshold=metrics.roc_curve(y_test,preds)\n",
    "roc_auc=metrics.auc(fpr,tpr)\n",
    "\n",
    "import matplotlib.pyplot as plt\n",
    "plt.plot(fpr,tpr,'b',label='AUC=%0.2f' %roc_auc)\n",
    "plt.legend(loc='lower right')\n",
    "\n",
    "plt.plot([0,1],[0,1],'r--')\n",
    "plt.xlim([0,1])\n",
    "plt.ylim([0,1])\n",
    "\n",
    "plt.title('Receiver Operating Characteristic')\n",
    "plt.xlabel('False Positive Rate')\n",
    "plt.ylabel('True Positive Rate')\n",
    "plt.show()"
   ]
  },
  {
   "cell_type": "markdown",
   "id": "a6ddee7e",
   "metadata": {},
   "source": [
    "**Support Vector Machines**\n",
    "\n",
    "SVM is used to perform classification. Post applying criteria on train data and validating the test data model predicts accuracy of 88.04%.\n",
    "\n",
    "**F1-Score:0.00**\n",
    "\n",
    "**ROC / AUC Curve** AUC curve at 27% shows that classes are separated with certain overlap."
   ]
  },
  {
   "cell_type": "code",
   "execution_count": 70,
   "id": "d7f13d5e",
   "metadata": {},
   "outputs": [],
   "source": [
    "from sklearn.ensemble import RandomForestClassifier"
   ]
  },
  {
   "cell_type": "code",
   "execution_count": 71,
   "id": "9dcb7945",
   "metadata": {},
   "outputs": [],
   "source": [
    "rf=RandomForestClassifier(n_estimators=50)"
   ]
  },
  {
   "cell_type": "code",
   "execution_count": 72,
   "id": "3572ca2a",
   "metadata": {},
   "outputs": [],
   "source": [
    "modelrfc=rf.fit(X_train,y_train)"
   ]
  },
  {
   "cell_type": "code",
   "execution_count": 73,
   "id": "f8580f3b",
   "metadata": {},
   "outputs": [],
   "source": [
    "y_pred=modelrfc.predict(X_test)"
   ]
  },
  {
   "cell_type": "markdown",
   "id": "52be632a",
   "metadata": {},
   "source": [
    "**Evaluation**"
   ]
  },
  {
   "cell_type": "code",
   "execution_count": 74,
   "id": "a0d1333e",
   "metadata": {},
   "outputs": [
    {
     "data": {
      "text/plain": [
       "0.880485527544351"
      ]
     },
     "execution_count": 74,
     "metadata": {},
     "output_type": "execute_result"
    }
   ],
   "source": [
    "accuracy_score(y_test,y_pred)"
   ]
  },
  {
   "cell_type": "code",
   "execution_count": 75,
   "id": "2ea8c5aa",
   "metadata": {},
   "outputs": [
    {
     "data": {
      "text/plain": [
       "array([[933,  10],\n",
       "       [118,  10]], dtype=int64)"
      ]
     },
     "execution_count": 75,
     "metadata": {},
     "output_type": "execute_result"
    }
   ],
   "source": [
    "confusion_matrix(y_test,y_pred)"
   ]
  },
  {
   "cell_type": "code",
   "execution_count": 76,
   "id": "252071e5",
   "metadata": {},
   "outputs": [
    {
     "name": "stdout",
     "output_type": "stream",
     "text": [
      "              precision    recall  f1-score   support\n",
      "\n",
      "           0       0.89      0.99      0.94       943\n",
      "           1       0.50      0.08      0.14       128\n",
      "\n",
      "    accuracy                           0.88      1071\n",
      "   macro avg       0.69      0.53      0.54      1071\n",
      "weighted avg       0.84      0.88      0.84      1071\n",
      "\n"
     ]
    }
   ],
   "source": [
    "print(classification_report(y_test,y_pred))"
   ]
  },
  {
   "cell_type": "markdown",
   "id": "38579df9",
   "metadata": {},
   "source": [
    "**ROC AUC Curve**"
   ]
  },
  {
   "cell_type": "code",
   "execution_count": 77,
   "id": "98351425",
   "metadata": {},
   "outputs": [
    {
     "data": {
      "image/png": "[encoded data removed]",
      "text/plain": [
       "<Figure size 432x288 with 1 Axes>"
      ]
     },
     "metadata": {
      "needs_background": "light"
     },
     "output_type": "display_data"
    }
   ],
   "source": [
    "import sklearn.metrics as metrics\n",
    "\n",
    "probs=model.predict_proba(X_test)\n",
    "preds=probs[:,1]\n",
    "fpr,tpr,threshold=metrics.roc_curve(y_test,preds)\n",
    "roc_auc=metrics.auc(fpr,tpr)\n",
    "\n",
    "import matplotlib.pyplot as plt\n",
    "plt.plot(fpr,tpr,'b',label='AUC=%0.2f' %roc_auc)\n",
    "plt.legend(loc='lower right')\n",
    "\n",
    "plt.plot([0,1],[0,1],'r--')\n",
    "plt.xlim([0,1])\n",
    "plt.ylim([0,1])\n",
    "\n",
    "plt.title('Receiver Operating Characteristic')\n",
    "plt.xlabel('False Positive Rate')\n",
    "plt.ylabel('True Positive Rate')\n",
    "plt.show()"
   ]
  },
  {
   "cell_type": "markdown",
   "id": "ba7ec7d2",
   "metadata": {},
   "source": [
    "**Random Forest**\n",
    "\n",
    "Random Forest is used to perform classification. Post applying criteria on train data and validating the test data model predicts accuracy of 87.76%.\n",
    "\n",
    "**F1-Score:0.12**\n",
    "\n",
    "**ROC / AUC Curve** AUC curve at 76% shows that classes are separated with certain overlap."
   ]
  },
  {
   "cell_type": "markdown",
   "id": "fba9ef10",
   "metadata": {},
   "source": [
    "# Gradient Boosting"
   ]
  },
  {
   "cell_type": "code",
   "execution_count": 78,
   "id": "4dda0a98",
   "metadata": {},
   "outputs": [],
   "source": [
    "from sklearn.ensemble import GradientBoostingClassifier"
   ]
  },
  {
   "cell_type": "code",
   "execution_count": 79,
   "id": "b14c2b27",
   "metadata": {},
   "outputs": [],
   "source": [
    "gb=GradientBoostingClassifier()"
   ]
  },
  {
   "cell_type": "code",
   "execution_count": 80,
   "id": "85a5ff58",
   "metadata": {},
   "outputs": [],
   "source": [
    "model=gb.fit(X_train,y_train)"
   ]
  },
  {
   "cell_type": "code",
   "execution_count": 81,
   "id": "1016bcaf",
   "metadata": {},
   "outputs": [],
   "source": [
    "y_pred=model.predict(X_test)"
   ]
  },
  {
   "cell_type": "markdown",
   "id": "87efcd9a",
   "metadata": {},
   "source": [
    "**Evaluation**"
   ]
  },
  {
   "cell_type": "code",
   "execution_count": 82,
   "id": "1623194b",
   "metadata": {},
   "outputs": [
    {
     "data": {
      "text/plain": [
       "0.8823529411764706"
      ]
     },
     "execution_count": 82,
     "metadata": {},
     "output_type": "execute_result"
    }
   ],
   "source": [
    "accuracy_score(y_test,y_pred)"
   ]
  },
  {
   "cell_type": "code",
   "execution_count": 83,
   "id": "f44d7dca",
   "metadata": {},
   "outputs": [
    {
     "data": {
      "text/plain": [
       "array([[938,   5],\n",
       "       [121,   7]], dtype=int64)"
      ]
     },
     "execution_count": 83,
     "metadata": {},
     "output_type": "execute_result"
    }
   ],
   "source": [
    "confusion_matrix(y_test,y_pred)"
   ]
  },
  {
   "cell_type": "code",
   "execution_count": 84,
   "id": "52b6f172",
   "metadata": {},
   "outputs": [
    {
     "name": "stdout",
     "output_type": "stream",
     "text": [
      "              precision    recall  f1-score   support\n",
      "\n",
      "           0       0.89      0.99      0.94       943\n",
      "           1       0.58      0.05      0.10       128\n",
      "\n",
      "    accuracy                           0.88      1071\n",
      "   macro avg       0.73      0.52      0.52      1071\n",
      "weighted avg       0.85      0.88      0.84      1071\n",
      "\n"
     ]
    }
   ],
   "source": [
    "print(classification_report(y_test,y_pred))"
   ]
  },
  {
   "cell_type": "markdown",
   "id": "43cc1eec",
   "metadata": {},
   "source": [
    "**ROC AUC Curve**"
   ]
  },
  {
   "cell_type": "code",
   "execution_count": 85,
   "id": "be162df5",
   "metadata": {},
   "outputs": [
    {
     "data": {
      "image/png": "[encoded data removed]",
      "text/plain": [
       "<Figure size 432x288 with 1 Axes>"
      ]
     },
     "metadata": {
      "needs_background": "light"
     },
     "output_type": "display_data"
    }
   ],
   "source": [
    "import sklearn.metrics as metrics\n",
    "\n",
    "probs=model.predict_proba(X_test)\n",
    "preds=probs[:,1]\n",
    "fpr,tpr,threshold=metrics.roc_curve(y_test,preds)\n",
    "roc_auc=metrics.auc(fpr,tpr)\n",
    "\n",
    "import matplotlib.pyplot as plt\n",
    "plt.plot(fpr,tpr,'b',label='AUC=%0.2f' %roc_auc)\n",
    "plt.legend(loc='lower right')\n",
    "\n",
    "plt.plot([0,1],[0,1],'r--')\n",
    "plt.xlim([0,1])\n",
    "plt.ylim([0,1])\n",
    "\n",
    "plt.title('Receiver Operating Characteristic')\n",
    "plt.xlabel('False Positive Rate')\n",
    "plt.ylabel('True Positive Rate')\n",
    "plt.show()"
   ]
  },
  {
   "cell_type": "markdown",
   "id": "44547e78",
   "metadata": {},
   "source": [
    "**Gradient Boosting**\n",
    "\n",
    "GB is used to perform classification. Post applying criteria on train data and validating the test data model predicts accuracy of 88.23%.\n",
    "\n",
    "**F1-Score:0.10**\n",
    "\n",
    "**ROC / AUC Curve** AUC curve at 78% shows that classes are separated with certain overlap."
   ]
  },
  {
   "cell_type": "code",
   "execution_count": null,
   "id": "994376ce",
   "metadata": {},
   "outputs": [],
   "source": []
  },
  {
   "cell_type": "markdown",
   "id": "5a7627a6",
   "metadata": {},
   "source": [
    "# Extreme Gradient Boosting"
   ]
  },
  {
   "cell_type": "code",
   "execution_count": 86,
   "id": "04398f27",
   "metadata": {},
   "outputs": [],
   "source": [
    "from xgboost import XGBClassifier"
   ]
  },
  {
   "cell_type": "code",
   "execution_count": 87,
   "id": "589bda12",
   "metadata": {},
   "outputs": [],
   "source": [
    "xgb=XGBClassifier()"
   ]
  },
  {
   "cell_type": "code",
   "execution_count": 88,
   "id": "1ee26230",
   "metadata": {},
   "outputs": [],
   "source": [
    "model=xgb.fit(X_train,y_train)"
   ]
  },
  {
   "cell_type": "code",
   "execution_count": 89,
   "id": "491efbba",
   "metadata": {},
   "outputs": [],
   "source": [
    "y_pred=model.predict(X_test)"
   ]
  },
  {
   "cell_type": "markdown",
   "id": "f87710c6",
   "metadata": {},
   "source": [
    "**Evaluation**"
   ]
  },
  {
   "cell_type": "code",
   "execution_count": 90,
   "id": "f13458c8",
   "metadata": {},
   "outputs": [
    {
     "data": {
      "text/plain": [
       "0.8758169934640523"
      ]
     },
     "execution_count": 90,
     "metadata": {},
     "output_type": "execute_result"
    }
   ],
   "source": [
    "accuracy_score(y_test,y_pred)"
   ]
  },
  {
   "cell_type": "code",
   "execution_count": 91,
   "id": "10a2cdea",
   "metadata": {},
   "outputs": [
    {
     "data": {
      "text/plain": [
       "array([[929,  14],\n",
       "       [119,   9]], dtype=int64)"
      ]
     },
     "execution_count": 91,
     "metadata": {},
     "output_type": "execute_result"
    }
   ],
   "source": [
    "confusion_matrix(y_test,y_pred)"
   ]
  },
  {
   "cell_type": "code",
   "execution_count": 92,
   "id": "bf3a4220",
   "metadata": {},
   "outputs": [
    {
     "name": "stdout",
     "output_type": "stream",
     "text": [
      "              precision    recall  f1-score   support\n",
      "\n",
      "           0       0.89      0.99      0.93       943\n",
      "           1       0.39      0.07      0.12       128\n",
      "\n",
      "    accuracy                           0.88      1071\n",
      "   macro avg       0.64      0.53      0.53      1071\n",
      "weighted avg       0.83      0.88      0.84      1071\n",
      "\n"
     ]
    }
   ],
   "source": [
    "print(classification_report(y_test,y_pred))"
   ]
  },
  {
   "cell_type": "markdown",
   "id": "fd6d4564",
   "metadata": {},
   "source": [
    "**ROC AUC Curve**"
   ]
  },
  {
   "cell_type": "code",
   "execution_count": 93,
   "id": "bbcd1e30",
   "metadata": {},
   "outputs": [
    {
     "data": {
      "image/png": "[encoded data removed]",
      "text/plain": [
       "<Figure size 432x288 with 1 Axes>"
      ]
     },
     "metadata": {
      "needs_background": "light"
     },
     "output_type": "display_data"
    }
   ],
   "source": [
    "import sklearn.metrics as metrics\n",
    "\n",
    "probs=model.predict_proba(X_test)\n",
    "preds=probs[:,1]\n",
    "fpr,tpr,threshold=metrics.roc_curve(y_test,preds)\n",
    "roc_auc=metrics.auc(fpr,tpr)\n",
    "\n",
    "import matplotlib.pyplot as plt\n",
    "plt.plot(fpr,tpr,'b',label='AUC=%0.2f' %roc_auc)\n",
    "plt.legend(loc='lower right')\n",
    "\n",
    "plt.plot([0,1],[0,1],'r--')\n",
    "plt.xlim([0,1])\n",
    "plt.ylim([0,1])\n",
    "\n",
    "plt.title('Receiver Operating Characteristic')\n",
    "plt.xlabel('False Positive Rate')\n",
    "plt.ylabel('True Positive Rate')\n",
    "plt.show()"
   ]
  },
  {
   "cell_type": "markdown",
   "id": "7f47347b",
   "metadata": {},
   "source": [
    "**Extreme Gradient Boosting**\n",
    "\n",
    "XGB is used to perform classification. Post applying criteria on train data and validating the test data model predicts accuracy of 87.58%.\n",
    "\n",
    "**F1-Score:0.12**\n",
    "\n",
    "**ROC / AUC Curve** AUC curve at 77% shows that classes are separated with certain overlap."
   ]
  },
  {
   "cell_type": "markdown",
   "id": "d43abd8f",
   "metadata": {},
   "source": [
    "## Feature Importance"
   ]
  },
  {
   "cell_type": "code",
   "execution_count": 95,
   "id": "6a37d973",
   "metadata": {},
   "outputs": [],
   "source": [
    "features=pd.Series(modelrfc.feature_importances_,index=X_train.columns).sort_values(ascending=False)"
   ]
  },
  {
   "cell_type": "code",
   "execution_count": 96,
   "id": "1ef9257f",
   "metadata": {},
   "outputs": [
    {
     "data": {
      "image/png": "[encoded data removed]",
      "text/plain": [
       "<Figure size 432x288 with 1 Axes>"
      ]
     },
     "metadata": {
      "needs_background": "light"
     },
     "output_type": "display_data"
    }
   ],
   "source": [
    "features.plot(kind=\"barh\")\n",
    "plt.show()"
   ]
  },
  {
   "cell_type": "markdown",
   "id": "4ca685fb",
   "metadata": {},
   "source": [
    "# Identification of Best Model"
   ]
  },
  {
   "cell_type": "markdown",
   "id": "efb4ff90",
   "metadata": {},
   "source": [
    "**Random Forest, KNN, Logistic Regression, Decision Tree Gradient Boosting and Extreme Gradient Boosting all show nearby same accuracy and AUC Ratio but amongst all the model Naive Bayes Classifer has the highest f1 score , hence Naive Bayes Classifier is chosen as best model amongst all the models.**"
   ]
  },
  {
   "cell_type": "markdown",
   "id": "4195dac5",
   "metadata": {},
   "source": [
    "## Lessons learnt from project\n",
    "\n",
    "Understanding of data from both the perspective i.e. technical and functional (Domain) is very important to proceed ahead with data cleaning and exploration. It is the base of constructing a good classification model.\n",
    "\n",
    "Data analysis and cleaning is an important task as at this stage lot of important decision are to be made i.e. whether to replace blank data with NaN value or Mean value of rest of the data. Data analysis helps to decide kind of encoding to be used for conversion of categorical data to numerical. \n",
    "\n",
    "Data exploration helps to visualize the relationship between predictor and response variable. It helps to identify highly correlated variable which can be attributed to train / test data.\n",
    "\n",
    "Any kind of misjudgement either at Data analysis / cleaning or Data Exploration may lead incorrect output in terms of Model Prediction Accuracy or Confusion Matrix which may ultimately lead to revisit the entire approach beginning from stage 1 i.e. Understanding the data.\n",
    "\n",
    "More the number of techniques, better the chances to find anomalies or error. Merely applying only technique will not give best model hence it is advisable to use all the techniques and compare the results to find out best of model for a given data set.\n"
   ]
  },
  {
   "cell_type": "code",
   "execution_count": null,
   "id": "ab844687",
   "metadata": {},
   "outputs": [],
   "source": []
  }
 ],
 "metadata": {
  "kernelspec": {
   "display_name": "Python 3 (ipykernel)",
   "language": "python",
   "name": "python3"
  },
  "language_info": {
   "codemirror_mode": {
    "name": "ipython",
    "version": 3
   },
   "file_extension": ".py",
   "mimetype": "text/x-python",
   "name": "python",
   "nbconvert_exporter": "python",
   "pygments_lexer": "ipython3",
   "version": "3.9.12"
  }
 },
 "nbformat": 4,
 "nbformat_minor": 5
}
